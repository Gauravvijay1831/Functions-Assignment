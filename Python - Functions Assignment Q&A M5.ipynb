{
 "cells": [
  {
   "cell_type": "markdown",
   "id": "adb66755-ab3b-49f2-8b47-ddbb2383d306",
   "metadata": {},
   "source": [
    "# Theory Questions:"
   ]
  },
  {
   "cell_type": "markdown",
   "id": "0935691e-3ab9-49c9-b871-0f4de1292b87",
   "metadata": {},
   "source": [
    "###  1. What is the difference between a function and a method in Python?"
   ]
  },
  {
   "cell_type": "markdown",
   "id": "cd9878c8-2bbb-475d-ab66-30e50de05b43",
   "metadata": {},
   "source": [
    "**Function**: A block of reusable code that performs a specific task. It is defined using def and can be called independently.  \n",
    "\n",
    "**Method**: A function that is associated with an object (usually a class). It's called using the dot (.) operator."
   ]
  },
  {
   "cell_type": "code",
   "execution_count": 1,
   "id": "7697157d-795d-4890-9338-8d7a2a9cdd30",
   "metadata": {},
   "outputs": [
    {
     "name": "stdout",
     "output_type": "stream",
     "text": [
      "Hello\n",
      "HELLO\n"
     ]
    }
   ],
   "source": [
    "# Function\n",
    "def greet():\n",
    "    print(\"Hello\")\n",
    "\n",
    "greet()  # Calling a function\n",
    "\n",
    "# Method\n",
    "text = \"hello\"\n",
    "print(text.upper())  # upper() is a method of string object"
   ]
  },
  {
   "cell_type": "markdown",
   "id": "b6be6a2e-a1f4-4f2e-be2e-951bfc922d55",
   "metadata": {},
   "source": [
    "### 2. Explain the concept of function arguments and parameters in Python."
   ]
  },
  {
   "cell_type": "markdown",
   "id": "fc7a8c9f-9304-4e8e-8987-0047de9d8114",
   "metadata": {},
   "source": [
    "**Parameters**: These are the names listed in the function definition. They act as placeholders for the values that will be passed into the function when it's called.\n",
    "\n",
    "**Arguments**: These are the actual values that are passed into the function when it is called. The arguments are assigned to the corresponding parameters in the order they are provided"
   ]
  },
  {
   "cell_type": "code",
   "execution_count": 2,
   "id": "c0b52ae6-2b21-4856-8538-6b0b0a46b50d",
   "metadata": {},
   "outputs": [
    {
     "data": {
      "text/plain": [
       "8"
      ]
     },
     "execution_count": 2,
     "metadata": {},
     "output_type": "execute_result"
    }
   ],
   "source": [
    "def add(a, b):  # a and b are parameters\n",
    "    return a + b\n",
    "\n",
    "add(3, 5)  # 3 and 5 are arguments"
   ]
  },
  {
   "cell_type": "markdown",
   "id": "ff9be2c0-31e4-472d-9779-fafa4aa8f886",
   "metadata": {},
   "source": [
    "###  3. What are the different ways to define and call a function in Python?"
   ]
  },
  {
   "cell_type": "markdown",
   "id": "56b43ce4-7e75-4ecb-8710-7c11285cac14",
   "metadata": {},
   "source": [
    "**Defining a function**: Functions are defined using the def keyword, followed by the function name, parentheses (), and a colon :. The function body is indented.\n",
    "\n",
    "**Calling a function**: Functions are called by using their name followed by parentheses (), optionally containing arguments."
   ]
  },
  {
   "cell_type": "code",
   "execution_count": 8,
   "id": "d1683015-7ab6-4d9e-9590-3bb3161eebcd",
   "metadata": {},
   "outputs": [
    {
     "name": "stdout",
     "output_type": "stream",
     "text": [
      "Hello Sir\n"
     ]
    }
   ],
   "source": [
    "def say_hello(name):\n",
    "    print(\"Hello\", name)\n",
    "\n",
    "say_hello(\"Sir\")"
   ]
  },
  {
   "cell_type": "markdown",
   "id": "9f61a426-bd7c-459a-bd85-6a38d5096741",
   "metadata": {},
   "source": [
    "###  4. What is the purpose of the `return` statement in a Python function?"
   ]
  },
  {
   "cell_type": "markdown",
   "id": "cec69b1b-e24c-4a7c-8778-36e3f1d4b2e8",
   "metadata": {},
   "source": [
    "* The return statement is used to exit a function and send a value (or None if no value is specified) back to the caller. It allows the function to produce an output that can be used elsewhere in the program. Once return is executed, the function terminates immediately."
   ]
  },
  {
   "cell_type": "code",
   "execution_count": 11,
   "id": "d53b7172-8685-4335-b917-fdc2ecde409d",
   "metadata": {},
   "outputs": [
    {
     "data": {
      "text/plain": [
       "5"
      ]
     },
     "execution_count": 11,
     "metadata": {},
     "output_type": "execute_result"
    }
   ],
   "source": [
    "def add(x, y):\n",
    "    return x + y\n",
    "\n",
    "result = add(2, 3)\n",
    "result"
   ]
  },
  {
   "cell_type": "markdown",
   "id": "d6e3aac2-6e63-4cdb-bd75-fca87cae6b6c",
   "metadata": {},
   "source": [
    "###  5. What are iterators in Python and how do they differ from iterables?"
   ]
  },
  {
   "cell_type": "markdown",
   "id": "c0db2084-3a21-46d8-a49d-56307cd9cb11",
   "metadata": {},
   "source": [
    "**Iterable**: An object that can be \"iterated over,\" meaning you can go through its elements one by one. Examples include lists, tuples, strings, dictionaries, and sets.  \n",
    "**Iterator**: An object that represents a stream of data. It provides a way to access elements of a sequence one at a time, without needing to load the entire sequence into memory."
   ]
  },
  {
   "cell_type": "code",
   "execution_count": 12,
   "id": "33289c39-9737-49d6-b3ab-e817cf46efb3",
   "metadata": {},
   "outputs": [
    {
     "name": "stdout",
     "output_type": "stream",
     "text": [
      "1\n",
      "2\n"
     ]
    }
   ],
   "source": [
    "nums = [1, 2, 3]  # Iterable\n",
    "it = iter(nums)   # Iterator\n",
    "\n",
    "print(next(it)) \n",
    "print(next(it))"
   ]
  },
  {
   "cell_type": "markdown",
   "id": "8c141768-edbe-4907-8f3c-aaaf54e760be",
   "metadata": {},
   "source": [
    "### 6. Explain the concept of generators in Python and how they are defined."
   ]
  },
  {
   "cell_type": "markdown",
   "id": "161880c4-8d08-4bbc-86b0-71c25c969a4a",
   "metadata": {},
   "source": [
    "Generators are functions that yield values one by one using the yield keyword instead of return. They remember the last state between calls."
   ]
  },
  {
   "cell_type": "code",
   "execution_count": 13,
   "id": "76e0db23-a1cd-42cb-adb8-463f7d7d4965",
   "metadata": {},
   "outputs": [
    {
     "name": "stdout",
     "output_type": "stream",
     "text": [
      "1\n",
      "2\n"
     ]
    }
   ],
   "source": [
    "def count_up_to(n):\n",
    "    count = 1\n",
    "    while count <= n:\n",
    "        yield count\n",
    "        count += 1\n",
    "\n",
    "gen = count_up_to(3)\n",
    "print(next(gen))\n",
    "print(next(gen))"
   ]
  },
  {
   "cell_type": "markdown",
   "id": "a57fbe67-6832-4ab2-b9ef-378634f8f3b6",
   "metadata": {},
   "source": [
    "###  7. What are the advantages of using generators over regular functions?"
   ]
  },
  {
   "cell_type": "markdown",
   "id": "23f7c691-5cd6-4f03-800f-2679edb0e255",
   "metadata": {},
   "source": [
    "**Memory Efficiency**: Generate values one at a time, reducing memory usage compared to storing all values (e.g., in a list).  \n",
    "**Performance**: Values are computed only when requested, improving performance for large datasets.  \n",
    "**Simpler Code**: Can simplify code for iterative processes.  \n",
    "**Infinite Sequences**: Can represent infinite sequences since values are generated on demand.  "
   ]
  },
  {
   "cell_type": "code",
   "execution_count": 15,
   "id": "caf1f748-dd46-4a88-806a-1307fe08c585",
   "metadata": {},
   "outputs": [],
   "source": [
    "def large_numbers():\n",
    "    for i in range(1000000):\n",
    "        yield i  # Generator\n",
    "\n",
    "# vs.\n",
    "\n",
    "def large_numbers_list():\n",
    "    return [i for i in range(1000000)]  # Consumes more memory"
   ]
  },
  {
   "cell_type": "markdown",
   "id": "e43ad25c-7ce9-4236-bf29-c888f449c6f6",
   "metadata": {},
   "source": [
    "###  8. What is a lambda function in Python and when is it typically used?"
   ]
  },
  {
   "cell_type": "markdown",
   "id": "58a27482-c16f-48a7-9749-364c394b8d42",
   "metadata": {},
   "source": [
    "* A lambda function is an anonymous, single-line function defined using the lambda keyword. It can take any number of arguments but has only one expression. Lambda functions are typically used for short, simple operations, often as arguments to higher-order functions like map(), filter(), or sorted()."
   ]
  },
  {
   "cell_type": "code",
   "execution_count": 16,
   "id": "1e50de23-0341-45b8-8863-c28359ad2ae9",
   "metadata": {},
   "outputs": [
    {
     "name": "stdout",
     "output_type": "stream",
     "text": [
      "25\n"
     ]
    }
   ],
   "source": [
    "square = lambda x: x**2\n",
    "print(square(5))"
   ]
  },
  {
   "cell_type": "markdown",
   "id": "9a8d69ba-9454-41da-820c-2697335ea8e0",
   "metadata": {},
   "source": [
    "### 9. Explain the purpose and usage of the `map()` function in Python."
   ]
  },
  {
   "cell_type": "markdown",
   "id": "2f7699e2-3abd-4ee6-a81b-6b0d364f7543",
   "metadata": {},
   "source": [
    "The map() function in Python applies a given function to each item of an iterable (like a list or tuple) and returns a map object (which is an iterator) containing the results. It's a convenient way to perform the same operation on all elements of a sequence.\n",
    "\n",
    "Usage:\n",
    "\n",
    "Syntax: map(function, iterable, ...)"
   ]
  },
  {
   "cell_type": "code",
   "execution_count": 17,
   "id": "e6bafb68-d814-46f1-ae90-fc367c3e7245",
   "metadata": {},
   "outputs": [
    {
     "name": "stdout",
     "output_type": "stream",
     "text": [
      "[1, 4, 9, 16]\n"
     ]
    }
   ],
   "source": [
    "nums = [1, 2, 3, 4]\n",
    "squared = map(lambda x: x*x, nums)\n",
    "print(list(squared))"
   ]
  },
  {
   "cell_type": "markdown",
   "id": "dd1898a6-1f40-4cda-b1b6-ef60c38f35fc",
   "metadata": {},
   "source": [
    "###  10. What is the difference between `map()`, `reduce()`, and `filter()` functions in Python?"
   ]
  },
  {
   "cell_type": "markdown",
   "id": "d651f1b0-6262-4a42-961e-3b2c12c6b35d",
   "metadata": {},
   "source": [
    "`map()`: Applies a function to each element of an iterable and returns an iterator of transformed elements. Used for element-wise transformation.  \n",
    "`reduce()`: Repeatedly applies a function to pairs of elements in an iterable to reduce it to a single value. Requires from functools import reduce. Used for aggregation.  \n",
    "`filter()`: Applies a function that returns True or False to each element of an iterable and returns an iterator of elements where the function returns True. Used for selecting elements.  "
   ]
  },
  {
   "cell_type": "code",
   "execution_count": 18,
   "id": "61727f60-3975-41c0-a325-5db3c1f0f866",
   "metadata": {},
   "outputs": [
    {
     "name": "stdout",
     "output_type": "stream",
     "text": [
      "[1, 4, 9, 16]\n",
      "10\n",
      "[2, 4]\n"
     ]
    }
   ],
   "source": [
    "from functools import reduce\n",
    "\n",
    "numbers = [1, 2, 3, 4]\n",
    "\n",
    "# map: Transform each element\n",
    "squares = map(lambda x: x * x, numbers)\n",
    "print(list(squares))  # Output: [1, 4, 9, 16]\n",
    "\n",
    "# reduce: Aggregate elements\n",
    "sum_all = reduce(lambda x, y: x + y, numbers)\n",
    "print(sum_all)  # Output: 10\n",
    "\n",
    "# filter: Select elements\n",
    "evens = filter(lambda x: x % 2 == 0, numbers)\n",
    "print(list(evens))  # Output: [2, 4]"
   ]
  },
  {
   "cell_type": "markdown",
   "id": "a36a4bab-9f59-442b-bdcb-65d3817c8c93",
   "metadata": {},
   "source": [
    "# Practical Questions:"
   ]
  },
  {
   "cell_type": "markdown",
   "id": "9763521e-061c-418d-810a-e2eab1cc871f",
   "metadata": {},
   "source": [
    "###  1. Write a Python function that takes a list of numbers as input and returns the sum of all even numbers"
   ]
  },
  {
   "cell_type": "code",
   "execution_count": 19,
   "id": "5634a15d-ff23-470d-a4ea-d5da6a643873",
   "metadata": {},
   "outputs": [
    {
     "name": "stdout",
     "output_type": "stream",
     "text": [
      "12\n"
     ]
    }
   ],
   "source": [
    "def sum_even_numbers(numbers):\n",
    "    return sum(num for num in numbers if num % 2 == 0)\n",
    "\n",
    "# Example\n",
    "print(sum_even_numbers([1, 2, 3, 4, 5, 6]))"
   ]
  },
  {
   "cell_type": "markdown",
   "id": "69969dd4-6f3e-4e35-b620-c1cd60e0719a",
   "metadata": {},
   "source": [
    "### 2. Create a Python function that accepts a string and returns the reverse of that string."
   ]
  },
  {
   "cell_type": "code",
   "execution_count": 20,
   "id": "5eb3ea9a-e7e8-4d5e-8eca-4955204855a6",
   "metadata": {},
   "outputs": [
    {
     "name": "stdout",
     "output_type": "stream",
     "text": [
      "olleh\n"
     ]
    }
   ],
   "source": [
    "def reverse_string(text):\n",
    "    return text[::-1]\n",
    "\n",
    "# Example\n",
    "print(reverse_string(\"hello\"))  # Output: \"olleh\""
   ]
  },
  {
   "cell_type": "markdown",
   "id": "f01343c4-9c95-4947-8507-bd17c7ed5188",
   "metadata": {},
   "source": [
    "###   3. Implement a Python function that takes a list of integers and returns a new list containing the squares"
   ]
  },
  {
   "cell_type": "code",
   "execution_count": 21,
   "id": "88b4d52b-502e-42bc-916f-c4cb8985f0d3",
   "metadata": {},
   "outputs": [
    {
     "name": "stdout",
     "output_type": "stream",
     "text": [
      "[1, 4, 9, 16]\n"
     ]
    }
   ],
   "source": [
    "def square_list(numbers):\n",
    "    return [num ** 2 for num in numbers]\n",
    "\n",
    "# Example\n",
    "print(square_list([1, 2, 3, 4]))"
   ]
  },
  {
   "cell_type": "markdown",
   "id": "1fb8ab9c-d783-4b40-a530-dd1157e3a637",
   "metadata": {},
   "source": [
    "###  4. Write a Python function that checks if a given number is prime or not from 1 to 200."
   ]
  },
  {
   "cell_type": "code",
   "execution_count": 23,
   "id": "303e71f1-1d44-414b-871a-f64ae4f9984f",
   "metadata": {},
   "outputs": [
    {
     "name": "stdout",
     "output_type": "stream",
     "text": [
      "Is 1 prime? False\n",
      "Is 2 prime? True\n",
      "Is 17 prime? True\n",
      "Is 100 prime? False\n"
     ]
    }
   ],
   "source": [
    "def is_prime(number):\n",
    "    if number < 1 or number > 200:\n",
    "        return False\n",
    "    if number == 1:\n",
    "        return False\n",
    "    for i in range(2, int(number ** 0.5) + 1):\n",
    "        if number % i == 0:\n",
    "            return False\n",
    "    return True\n",
    "\n",
    "# Example usage\n",
    "test_numbers = [1, 2, 17, 100]\n",
    "for num in test_numbers:\n",
    "    print(f\"Is {num} prime? {is_prime(num)}\")"
   ]
  },
  {
   "cell_type": "markdown",
   "id": "a6c3bce2-fef4-42c3-b7d5-4cd29f348762",
   "metadata": {},
   "source": [
    "###  5. Create an iterator class in Python that generates the Fibonacci sequence up to a specified number"
   ]
  },
  {
   "cell_type": "code",
   "execution_count": 33,
   "id": "57245d51-ffaa-401d-b91c-7f48fa8e9ed0",
   "metadata": {},
   "outputs": [],
   "source": [
    "# using class"
   ]
  },
  {
   "cell_type": "markdown",
   "id": "518aefe7-b1da-4a01-b866-9842c161bce3",
   "metadata": {},
   "source": [
    "###  6. Write a generator function in Python that yields the powers of 2 up to a given exponent."
   ]
  },
  {
   "cell_type": "code",
   "execution_count": 25,
   "id": "d5fbc988-1738-4a38-8daa-1f7dcf1b796e",
   "metadata": {},
   "outputs": [
    {
     "name": "stdout",
     "output_type": "stream",
     "text": [
      "1 2 4 8 16 32 "
     ]
    }
   ],
   "source": [
    "def powers_of_two(max_exponent):\n",
    "    for i in range(max_exponent + 1):\n",
    "        yield 2 ** i\n",
    "\n",
    "# Example\n",
    "for power in powers_of_two(5):\n",
    "    print(power, end=\" \")"
   ]
  },
  {
   "cell_type": "markdown",
   "id": "b0e5de4d-7e92-4f57-8cdb-24dd0b0046fb",
   "metadata": {},
   "source": [
    "###  7. Implement a generator function that reads a file line by line and yields each line as a string."
   ]
  },
  {
   "cell_type": "code",
   "execution_count": 28,
   "id": "44596849-c0a0-4603-af63-4d208f74d36e",
   "metadata": {},
   "outputs": [],
   "source": [
    "def read_file_lines(filepath):\n",
    "    with open(filepath, 'r') as file:\n",
    "        for line in file:\n",
    "            yield line.strip()"
   ]
  },
  {
   "cell_type": "markdown",
   "id": "f68913cc-90a6-4424-ae91-24c2a06224f4",
   "metadata": {},
   "source": [
    "###  8. Use a lambda function in Python to sort a list of tuples based on the second element of each tuple."
   ]
  },
  {
   "cell_type": "code",
   "execution_count": 29,
   "id": "76987c21-1679-4ad5-a4c8-0da0682408eb",
   "metadata": {},
   "outputs": [
    {
     "name": "stdout",
     "output_type": "stream",
     "text": [
      "[(2, 1), (4, 2), (1, 3)]\n"
     ]
    }
   ],
   "source": [
    "data = [(1, 3), (2, 1), (4, 2)]\n",
    "sorted_data = sorted(data, key=lambda x: x[1])\n",
    "print(sorted_data)"
   ]
  },
  {
   "cell_type": "markdown",
   "id": "d9bcc959-a298-4bcf-97de-02e3eeb18bc6",
   "metadata": {},
   "source": [
    "###  9. Write a Python program that uses `map()` to convert a list of temperatures from Celsius to Fahrenheit."
   ]
  },
  {
   "cell_type": "code",
   "execution_count": 30,
   "id": "61df55d9-936d-4114-a245-131539409c4d",
   "metadata": {},
   "outputs": [
    {
     "name": "stdout",
     "output_type": "stream",
     "text": [
      "[32.0, 50.0, 68.0, 86.0]\n"
     ]
    }
   ],
   "source": [
    "celsius = [0, 10, 20, 30]\n",
    "fahrenheit = list(map(lambda c: (c * 9/5) + 32, celsius))\n",
    "print(fahrenheit)"
   ]
  },
  {
   "cell_type": "markdown",
   "id": "5a0d0483-045d-4340-8a7d-e6f067ce573f",
   "metadata": {},
   "source": [
    "###  10. Create a Python program that uses `filter()` to remove all the vowels from a given string."
   ]
  },
  {
   "cell_type": "code",
   "execution_count": 31,
   "id": "16f454e2-0281-437c-baa1-25fa1853b60f",
   "metadata": {},
   "outputs": [
    {
     "name": "stdout",
     "output_type": "stream",
     "text": [
      "Hll Wrld\n"
     ]
    }
   ],
   "source": [
    "def remove_vowels(text):\n",
    "    vowels = \"aeiouAEIOU\"\n",
    "    return ''.join(filter(lambda char: char not in vowels, text))\n",
    "\n",
    "# Example\n",
    "print(remove_vowels(\"Hello World\"))"
   ]
  },
  {
   "cell_type": "markdown",
   "id": "ffb51d1d-3ac9-401b-85e6-45cf70600130",
   "metadata": {},
   "source": [
    "### 11) Imagine an accounting routine used in a book shop. It works on a list with sublists, which look like this:"
   ]
  },
  {
   "cell_type": "raw",
   "id": "a9241130-8dc1-48fb-80e6-377c022ee3b3",
   "metadata": {},
   "source": [
    "Order Number    Book Title and Author                             Quantity    Price per Item  \n",
    "34587           Learning Python, Mark Lutz                        4           40.95  \n",
    "98762           Programming Python, Mark Lutz                     5           56.80  \n",
    "77226           Head First Python, Paul Barry                     3           32.95  \n",
    "88112           Einführung in Python3, Bernd Klein                3           24.99"
   ]
  },
  {
   "cell_type": "markdown",
   "id": "405b4d16-16c2-402d-88f8-842bb5f7bcb4",
   "metadata": {},
   "source": [
    "Write a Python program, which returns a list with 2-tuples. Each tuple consists of the order number and the \n",
    "product of the price per item and the quantity. The product should be increased by 10,- € if the value of the \n",
    "order is smaller than 100,00 €.  \n",
    "Write a Python program using lambda and map"
   ]
  },
  {
   "cell_type": "code",
   "execution_count": null,
   "id": "04e14fb8-3cfd-496a-b4f9-f04c8f5dbe79",
   "metadata": {},
   "outputs": [],
   "source": []
  }
 ],
 "metadata": {
  "kernelspec": {
   "display_name": "Python 3 (ipykernel)",
   "language": "python",
   "name": "python3"
  },
  "language_info": {
   "codemirror_mode": {
    "name": "ipython",
    "version": 3
   },
   "file_extension": ".py",
   "mimetype": "text/x-python",
   "name": "python",
   "nbconvert_exporter": "python",
   "pygments_lexer": "ipython3",
   "version": "3.12.7"
  }
 },
 "nbformat": 4,
 "nbformat_minor": 5
}
